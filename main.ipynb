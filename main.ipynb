{
 "cells": [
  {
   "cell_type": "code",
   "execution_count": 1,
   "metadata": {},
   "outputs": [],
   "source": [
    "import os\n",
    "from bs4 import BeautifulSoup\n",
    "from selenium import webdriver\n",
    "from selenium.webdriver.common.by import By\n"
   ]
  },
  {
   "cell_type": "code",
   "execution_count": 2,
   "metadata": {},
   "outputs": [],
   "source": [
    "import pandas as pd\n",
    "import time"
   ]
  },
  {
   "cell_type": "code",
   "execution_count": 3,
   "metadata": {},
   "outputs": [],
   "source": [
    "from selenium.webdriver.support.ui import WebDriverWait\n",
    "from selenium.webdriver.support import expected_conditions as EC"
   ]
  },
  {
   "cell_type": "code",
   "execution_count": 4,
   "metadata": {},
   "outputs": [],
   "source": [
    "df = pd.read_excel('D:/ap_cust/SPTDATA.xlsx',header=None)\n",
    "for column in df.columns:\n",
    "    li = df[column].tolist()"
   ]
  },
  {
   "cell_type": "code",
   "execution_count": 3,
   "metadata": {},
   "outputs": [],
   "source": [
    "ap_cust1 = []\n",
    "not_scr = []"
   ]
  },
  {
   "cell_type": "code",
   "execution_count": null,
   "metadata": {},
   "outputs": [
    {
     "name": "stdout",
     "output_type": "stream",
     "text": [
      "retrying for cid: 1328230346000815\n",
      "retrying for cid: 1328230346000815\n",
      "retrying for cid: 1328230346000810\n",
      "retrying for cid: 1328230346000827\n",
      "retrying for cid: 1328230346000827\n",
      "retrying for cid: 1328230346000826\n",
      "retrying for cid: 1328230346000826\n"
     ]
    }
   ],
   "source": [
    "str = 8000\n",
    "stp = len(li)\n",
    "max_tries = 3\n",
    "options = webdriver.ChromeOptions()\n",
    "options.add_argument(\"--headless\")\n",
    "while str < stp:\n",
    "    try:\n",
    "        cid = li[str]\n",
    "        driver = webdriver.Chrome(options=options)\n",
    "        driver.get('https://www.apeasternpower.com/viewBillDetailsMain')\n",
    "        id = driver.find_element(By.ID, 'ltscno')\n",
    "        id.send_keys(cid)\n",
    "        sum = driver.find_element(By.ID, 'Billquestion').text.split()\n",
    "        a = sum[0]\n",
    "        b = sum[2].split('=')[0]\n",
    "        sum = int(a) + int(b)\n",
    "        ans = driver.find_element(By.ID, 'Billans')\n",
    "        ans.send_keys(sum)\n",
    "        WebDriverWait(driver, 30).until(\n",
    "                EC.presence_of_element_located((By.ID, \"Billsignin\"))\n",
    "        ).click()\n",
    "\n",
    "        time.sleep(5)\n",
    "        soup = BeautifulSoup(driver.page_source,'lxml')\n",
    "        name = soup.find_all('td')[6].text.strip()\n",
    "        # print(name)\n",
    "        \n",
    "        # time.sleep(5)\n",
    "        driver.execute_script('window.scrollBy(0, 280)')\n",
    "        # time.sleep(5)\n",
    "        WebDriverWait(driver, 30).until(\n",
    "                EC.presence_of_element_located((By.ID, \"historyDivbtn\"))\n",
    "            ).click()\n",
    "\n",
    "        time.sleep(3)\n",
    "        soup = BeautifulSoup(driver.page_source,'lxml')\n",
    "        table = soup.find('table',{'id':'consumptionData'}).text.strip().split('\\n')\n",
    "\n",
    "        headers = table[:4]\n",
    "        time.sleep(5)\n",
    "        table1 = soup.find('tbody')\n",
    "        \n",
    "        table1 = table1.text.strip().split('\\n')\n",
    "        time.sleep(2)\n",
    "        soup = BeautifulSoup(driver.page_source,'lxml')\n",
    "        tables = soup.find('table',{'id':'consumptionData'})\n",
    "\n",
    "        amt = tables.find_all('input', {'class': 'btn btn-link'})\n",
    "        amount = []\n",
    "        for i in range(len(amt)):\n",
    "            amount.append(amt[i]['value'])\n",
    "\n",
    "        headers = table[:4]\n",
    "        list = []\n",
    "        i = 0\n",
    "        j = 0\n",
    "        while i < len(table1):\n",
    "            data = {}\n",
    "            data[headers[0]]= table1[i]\n",
    "            data[headers[1]] = table1[i+1]\n",
    "            data[headers[2]] = table1[i+2]\n",
    "            data['amount'] = amount[j]\n",
    "            j += 1\n",
    "            i+=14\n",
    "            list.append(data)    \n",
    "\n",
    "        customer_list = {}\n",
    "        \n",
    "        customer_list['Name'] = name\n",
    "        customer_list['Scon'] = cid\n",
    "        customer_list['Transactions'] = list\n",
    "        ap_cust1.append(customer_list)\n",
    "        driver.quit()\n",
    "        max_tries = 3\n",
    "        str = str + 1\n",
    "        print(len(ap_cust1))\n",
    "    \n",
    "    except:\n",
    "        max_tries = max_tries - 1\n",
    "        if max_tries == 0:\n",
    "            not_scr.append(cid)\n",
    "            str = str + 1\n",
    "            continue\n",
    "        else:\n",
    "            print(f\"retrying for cid: {cid}\")\n",
    "            time.sleep(2)\n",
    "            continue\n",
    "        "
   ]
  },
  {
   "cell_type": "code",
   "execution_count": 4,
   "metadata": {},
   "outputs": [
    {
     "data": {
      "text/plain": [
       "[]"
      ]
     },
     "execution_count": 4,
     "metadata": {},
     "output_type": "execute_result"
    }
   ],
   "source": [
    "not_scr"
   ]
  },
  {
   "cell_type": "code",
   "execution_count": 75,
   "metadata": {},
   "outputs": [],
   "source": [
    "import json\n",
    "\n",
    "with open(f'c_data.json', 'w') as f:\n",
    "    json.dump(ap_cust1, f, indent=4)"
   ]
  }
 ],
 "metadata": {
  "kernelspec": {
   "display_name": "Python 3",
   "language": "python",
   "name": "python3"
  },
  "language_info": {
   "codemirror_mode": {
    "name": "ipython",
    "version": 3
   },
   "file_extension": ".py",
   "mimetype": "text/x-python",
   "name": "python",
   "nbconvert_exporter": "python",
   "pygments_lexer": "ipython3",
   "version": "3.12.0"
  }
 },
 "nbformat": 4,
 "nbformat_minor": 2
}
